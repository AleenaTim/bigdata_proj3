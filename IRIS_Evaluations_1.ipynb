{
 "cells": [
  {
   "cell_type": "code",
   "execution_count": 1,
   "id": "75a95a90-5b95-4ff3-98ef-9ed19cc9fb8c",
   "metadata": {},
   "outputs": [
    {
     "name": "stderr",
     "output_type": "stream",
     "text": [
      "C:\\Users\\brica\\AppData\\Local\\Temp\\ipykernel_149120\\1201461288.py:1: DeprecationWarning: \n",
      "Pyarrow will become a required dependency of pandas in the next major release of pandas (pandas 3.0),\n",
      "(to allow more performant data types, such as the Arrow string type, and better interoperability with other libraries)\n",
      "but was not found to be installed on your system.\n",
      "If this would cause problems for you,\n",
      "please provide us feedback at https://github.com/pandas-dev/pandas/issues/54466\n",
      "        \n",
      "  import pandas as pd\n"
     ]
    }
   ],
   "source": [
    "import pandas as pd\n",
    "from sklearn.datasets import load_iris\n",
    "from sklearn.model_selection import train_test_split\n",
    "from sklearn.neighbors import KNeighborsClassifier\n",
    "from sklearn.tree import DecisionTreeClassifier\n",
    "from sklearn.svm import SVC\n",
    "from sklearn.metrics import accuracy_score, confusion_matrix, classification_report"
   ]
  },
  {
   "cell_type": "code",
   "execution_count": 2,
   "id": "a1197413-5898-4173-b124-f21442ef0f41",
   "metadata": {},
   "outputs": [],
   "source": [
    "# Load the dataset\n",
    "iris = load_iris()\n",
    "X = iris.data\n",
    "y = iris.target\n",
    "\n",
    "# Split the dataset into training and testing sets\n",
    "X_train, X_test, y_train, y_test = train_test_split(X, y, test_size=0.3, random_state=42)"
   ]
  },
  {
   "cell_type": "code",
   "execution_count": 5,
   "id": "f19807eb-0323-44ba-8adc-f347c7d800dc",
   "metadata": {},
   "outputs": [],
   "source": [
    "# Initialize the classifiers\n",
    "knn = KNeighborsClassifier()\n",
    "dt = DecisionTreeClassifier()\n",
    "svm = SVC(kernel='rbf')\n",
    "\n",
    "# Train the classifiers\n",
    "knn.fit(X_train, y_train)\n",
    "dt.fit(X_train, y_train)\n",
    "svm.fit(X_train, y_train)\n",
    "\n",
    "# Make predictions\n",
    "knn_pred = knn.predict(X_test)\n",
    "dt_pred = dt.predict(X_test)\n",
    "svm_pred = svm.predict(X_test)"
   ]
  },
  {
   "cell_type": "code",
   "execution_count": 6,
   "id": "da170e1c-7386-496e-91a1-382c6ddba85f",
   "metadata": {},
   "outputs": [],
   "source": [
    "# Function to calculate specificity and sensitivity\n",
    "def calculate_sensitivity_specificity(y_true, y_pred):\n",
    "    cm = confusion_matrix(y_true, y_pred)\n",
    "    sensitivity = cm[1,1] / (cm[1,1] + cm[1,0])\n",
    "    specificity = cm[0,0] / (cm[0,0] + cm[0,1])\n",
    "    return sensitivity, specificity\n",
    "\n",
    "# Function to evaluate model\n",
    "def evaluate_model(y_test, y_pred):\n",
    "    accuracy = accuracy_score(y_test, y_pred)\n",
    "    cm = confusion_matrix(y_test, y_pred)\n",
    "    sensitivity, specificity = calculate_sensitivity_specificity(y_test, y_pred)\n",
    "    return accuracy, sensitivity, specificity, cm"
   ]
  },
  {
   "cell_type": "code",
   "execution_count": 7,
   "id": "f64a12f9-be7d-45bb-ba59-48d796cef101",
   "metadata": {},
   "outputs": [
    {
     "name": "stdout",
     "output_type": "stream",
     "text": [
      "Model: K-NN\n",
      "Accuracy: 1.00\n",
      "Sensitivity: 1.00\n",
      "Specificity: 1.00\n",
      "Confusion Matrix:\n",
      "[[19  0  0]\n",
      " [ 0 13  0]\n",
      " [ 0  0 13]]\n",
      "\n",
      "\n",
      "Model: Decision Tree\n",
      "Accuracy: 1.00\n",
      "Sensitivity: 1.00\n",
      "Specificity: 1.00\n",
      "Confusion Matrix:\n",
      "[[19  0  0]\n",
      " [ 0 13  0]\n",
      " [ 0  0 13]]\n",
      "\n",
      "\n",
      "Model: SVM (RBF)\n",
      "Accuracy: 1.00\n",
      "Sensitivity: 1.00\n",
      "Specificity: 1.00\n",
      "Confusion Matrix:\n",
      "[[19  0  0]\n",
      " [ 0 13  0]\n",
      " [ 0  0 13]]\n",
      "\n",
      "\n",
      "Classification Reports:\n",
      "\n",
      "K-NN Classification Report:\n",
      "              precision    recall  f1-score   support\n",
      "\n",
      "      setosa       1.00      1.00      1.00        19\n",
      "  versicolor       1.00      1.00      1.00        13\n",
      "   virginica       1.00      1.00      1.00        13\n",
      "\n",
      "    accuracy                           1.00        45\n",
      "   macro avg       1.00      1.00      1.00        45\n",
      "weighted avg       1.00      1.00      1.00        45\n",
      "\n",
      "Decision Tree Classification Report:\n",
      "              precision    recall  f1-score   support\n",
      "\n",
      "      setosa       1.00      1.00      1.00        19\n",
      "  versicolor       1.00      1.00      1.00        13\n",
      "   virginica       1.00      1.00      1.00        13\n",
      "\n",
      "    accuracy                           1.00        45\n",
      "   macro avg       1.00      1.00      1.00        45\n",
      "weighted avg       1.00      1.00      1.00        45\n",
      "\n",
      "SVM (RBF) Classification Report:\n",
      "              precision    recall  f1-score   support\n",
      "\n",
      "      setosa       1.00      1.00      1.00        19\n",
      "  versicolor       1.00      1.00      1.00        13\n",
      "   virginica       1.00      1.00      1.00        13\n",
      "\n",
      "    accuracy                           1.00        45\n",
      "   macro avg       1.00      1.00      1.00        45\n",
      "weighted avg       1.00      1.00      1.00        45\n",
      "\n"
     ]
    }
   ],
   "source": [
    "# Evaluate the models\n",
    "knn_results = evaluate_model(y_test, knn_pred)\n",
    "dt_results = evaluate_model(y_test, dt_pred)\n",
    "svm_results = evaluate_model(y_test, svm_pred)\n",
    "\n",
    "# Print the results\n",
    "models = ['K-NN', 'Decision Tree', 'SVM (RBF)']\n",
    "results = [knn_results, dt_results, svm_results]\n",
    "\n",
    "for model, result in zip(models, results):\n",
    "    accuracy, sensitivity, specificity, cm = result\n",
    "    print(f\"Model: {model}\")\n",
    "    print(f\"Accuracy: {accuracy:.2f}\")\n",
    "    print(f\"Sensitivity: {sensitivity:.2f}\")\n",
    "    print(f\"Specificity: {specificity:.2f}\")\n",
    "    print(\"Confusion Matrix:\")\n",
    "    print(cm)\n",
    "    print(\"\\n\")\n",
    "\n",
    "# Print classification reports\n",
    "print(\"Classification Reports:\\n\")\n",
    "print(\"K-NN Classification Report:\")\n",
    "print(classification_report(y_test, knn_pred, target_names=iris.target_names))\n",
    "print(\"Decision Tree Classification Report:\")\n",
    "print(classification_report(y_test, dt_pred, target_names=iris.target_names))\n",
    "print(\"SVM (RBF) Classification Report:\")\n",
    "print(classification_report(y_test, svm_pred, target_names=iris.target_names))"
   ]
  },
  {
   "cell_type": "code",
   "execution_count": null,
   "id": "caa72788-c3e9-415c-9e77-e1b871a90656",
   "metadata": {},
   "outputs": [],
   "source": []
  }
 ],
 "metadata": {
  "kernelspec": {
   "display_name": "Python 3 (ipykernel)",
   "language": "python",
   "name": "python3"
  },
  "language_info": {
   "codemirror_mode": {
    "name": "ipython",
    "version": 3
   },
   "file_extension": ".py",
   "mimetype": "text/x-python",
   "name": "python",
   "nbconvert_exporter": "python",
   "pygments_lexer": "ipython3",
   "version": "3.11.7"
  }
 },
 "nbformat": 4,
 "nbformat_minor": 5
}
